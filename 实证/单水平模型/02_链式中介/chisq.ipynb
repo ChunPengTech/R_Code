{
 "cells": [
  {
   "cell_type": "code",
   "execution_count": 1,
   "metadata": {
    "vscode": {
     "languageId": "r"
    }
   },
   "outputs": [
    {
     "name": "stderr",
     "output_type": "stream",
     "text": [
      "This is lavaan 0.6-19\n",
      "lavaan is FREE software! Please report any bugs.\n",
      "\n",
      "\n",
      "\u001b[35mbruceR (v2024.6)\u001b[39m\n",
      "\u001b[34mBroadly Useful Convenient and Efficient R functions\u001b[39m\n",
      "\n",
      "\u001b[35mPackages also loaded:\u001b[39m\n",
      "\u001b[32m<U+2714> data.table\t<U+2714> emmeans\n",
      "<U+2714> dplyr     \t<U+2714> lmerTest\n",
      "<U+2714> tidyr     \t<U+2714> effectsize\n",
      "<U+2714> stringr   \t<U+2714> performance\n",
      "<U+2714> ggplot2   \t<U+2714> interactions\u001b[39m\n",
      "\n",
      "\u001b[35mMain functions of `bruceR`:\u001b[39m\n",
      "\u001b[36mcc()          \tDescribe() \tTTEST()\n",
      "add()         \tFreq()     \tMANOVA()\n",
      ".mean()       \tCorr()     \tEMMEANS()\n",
      "set.wd()      \tAlpha()    \tPROCESS()\n",
      "import()      \tEFA()      \tmodel_summary()\n",
      "print_table() \tCFA()      \tlavaan_summary()\u001b[39m\n",
      "\n",
      "\u001b[35mFor full functionality, please install all dependencies:\u001b[39m\n",
      "install.packages(\"bruceR\", dep=TRUE)\n",
      "\n",
      "\u001b[35mOnline documentation:\u001b[39m\n",
      "\u001b[4mhttps://psychbruce.github.io/bruceR\u001b[24m\n",
      "\n",
      "\u001b[35mTo use this package in publications, please cite:\u001b[39m\n",
      "Bao, H.-W.-S. (2024). \u001b[3mbruceR: Broadly useful convenient and efficient R functions\u001b[23m (Version 2024.6) [Computer software]. \u001b[4mhttps://CRAN.R-project.org/package=bruceR\u001b[24m\n",
      "\n",
      "\n",
      "\n",
      "These packages are dependencies of `bruceR` but not installed:\n",
      "- pacman, ggtext, vars, phia, GGally\n",
      "\n",
      "***** Install all dependencies *****\n",
      "install.packages(\"bruceR\", dep=TRUE)\n",
      "\n",
      "\n",
      "载入需要的程序包：OpenMx\n",
      "\n",
      "\n",
      "载入程序包：'OpenMx'\n",
      "\n",
      "\n",
      "The following objects are masked from 'package:Matrix':\n",
      "\n",
      "    %&%, expm\n",
      "\n",
      "\n",
      "The following object is masked from 'package:bruceR':\n",
      "\n",
      "    %^%\n",
      "\n",
      "\n",
      "Registered S3 method overwritten by 'tidySEM':\n",
      "  method          from  \n",
      "  predict.MxModel OpenMx\n",
      "\n"
     ]
    }
   ],
   "source": [
    "library(lavaan)\n",
    "library(bruceR)\n",
    "library(tidySEM)"
   ]
  },
  {
   "cell_type": "code",
   "execution_count": 4,
   "metadata": {
    "vscode": {
     "languageId": "r"
    }
   },
   "outputs": [],
   "source": [
    "data <- import(\"data_298.csv\", as = \"tibble\")"
   ]
  },
  {
   "cell_type": "code",
   "execution_count": 5,
   "metadata": {
    "vscode": {
     "languageId": "r"
    }
   },
   "outputs": [],
   "source": [
    "baseline <- \"\n",
    "x =~ x1+x2+x3+x4+x5\n",
    "ma =~ ma1+ma2+ma3+ma4+ma5\n",
    "mb =~ mb1+mb2+mb3+mb4+mb5+mb6\n",
    "y =~ y1+y2+y3+y4+y5+y6\n",
    "\"\n",
    "baseline_model <- cfa(model = baseline, data = data)\n",
    "\n",
    "\n",
    "three <- \"\n",
    "x =~ x1+x2+x3+x4+x5+\n",
    "ma1+ma2+ma3+ma4+ma5\n",
    "\n",
    "mb =~ mb1+mb2+mb3+mb4+mb5+mb6\n",
    "\n",
    "y =~ y1+y2+y3+y4+y5+y6\n",
    "\"\n",
    "three_model <- cfa(model = three, data = data)\n",
    "\n",
    "\n",
    "two <- \"\n",
    "x =~ x1+x2+x3+x4+x5+\n",
    "ma1+ma2+ma3+ma4+ma5+\n",
    "mb1+mb2+mb3+mb4+mb5+mb6\n",
    "\n",
    "y =~ y1+y2+y3+y4+y5+y6\n",
    "\"\n",
    "two_model <- cfa(model = two, data = data)\n",
    "\n",
    "\n",
    "one <- \"\n",
    "x =~ x1+x2+x3+x4+x5+\n",
    "ma1+ma2+ma3+ma4+ma5+\n",
    "mb1+mb2+mb3+mb4+mb5+mb6+\n",
    "y1+y2+y3+y4+y5+y6\n",
    "\"\n",
    "one_model <- cfa(model = one, data = data)\n",
    "\n",
    "\n",
    "bifactor <- \"\n",
    "x =~ x1+x2+x3+x4+x5\n",
    "ma =~ ma1+ma2+ma3+ma4+ma5\n",
    "mb =~ mb1+mb2+mb3+mb4+mb5+mb6\n",
    "y =~ y1+y2+y3+y4+y5+y6\n",
    "\n",
    "G =~ x1+x2+x3+x4+x5+\n",
    "ma1+ma2+ma3+ma4+ma5+\n",
    "mb1+mb2+mb3+mb4+mb5+mb6+\n",
    "y1+y2+y3+y4+y5+y6\n",
    "\"\n",
    "bifactor_model <- cfa(model = bifactor, data = data, orthogonal = TRUE)"
   ]
  },
  {
   "cell_type": "code",
   "execution_count": 6,
   "metadata": {
    "vscode": {
     "languageId": "r"
    }
   },
   "outputs": [
    {
     "name": "stdout",
     "output_type": "stream",
     "text": [
      "─────────────────────────────────────────────────────────────────────\n",
      "                 Model       χ2      df χ2/df   CFI   TLI RMSEA  SRMR\n",
      "─────────────────────────────────────────────────────────────────────\n",
      "1  Baseline model       379.806 203.000 1.871 0.960 0.954 0.054 0.033\n",
      "2  Three-factor model   577.646 206.000 2.804 0.915 0.905 0.078 0.045\n",
      "3  Two-factor model     745.921 208.000 3.586 0.877 0.864 0.093 0.055\n",
      "4  Single-factor model 1019.399 209.000 4.878 0.815 0.796 0.114 0.068\n",
      "5  Bifactor model       360.755 187.000 1.929 0.960 0.951 0.056 0.032\n",
      "─────────────────────────────────────────────────────────────────────\n"
     ]
    }
   ],
   "source": [
    "# 定义模型列表\n",
    "models <- list(\n",
    "  \"Baseline model\" = baseline_model,\n",
    "  \"Three-factor model\" = three_model,\n",
    "  \"Two-factor model\" = two_model,\n",
    "  \"Single-factor model\" = one_model,\n",
    "  \"Bifactor model\" = bifactor_model\n",
    ")\n",
    "\n",
    "# 使用 lapply 循环遍历模型，计算拟合指标并整理结果\n",
    "results <- lapply(names(models), function(model_name) {\n",
    "  model <- models[[model_name]]\n",
    "\n",
    "  # 计算拟合指标\n",
    "  fitted <- table_fit(model)\n",
    "\n",
    "  # 创建新的数据框并添加模型名称\n",
    "  fitted |>\n",
    "    mutate(\n",
    "      \"χ2/df\" = chisq / df,\n",
    "      \"χ2\" = chisq,\n",
    "      CFI = cfi,\n",
    "      TLI = tli,\n",
    "      RMSEA = rmsea,\n",
    "      SRMR = srmr,\n",
    "      Model = model_name\n",
    "    ) |>\n",
    "    select(Model, \"χ2\", df, \"χ2/df\", CFI, TLI, RMSEA, SRMR)\n",
    "})\n",
    "\n",
    "# 将结果合并在一起并输出\n",
    "final_results <- bind_rows(results)\n",
    "final_results |> print_table()"
   ]
  },
  {
   "cell_type": "code",
   "execution_count": 7,
   "metadata": {
    "vscode": {
     "languageId": "r"
    }
   },
   "outputs": [
    {
     "name": "stdout",
     "output_type": "stream",
     "text": [
      "──────────────────────────────────────────────────────────────────────────────────────────\n",
      "                 Model       χ2      df χ2/df   CFI   TLI RMSEA  SRMR     Δχ2    Δdf     p\n",
      "──────────────────────────────────────────────────────────────────────────────────────────\n",
      "1  Baseline model       379.806 203.000 1.871 0.960 0.954 0.054 0.033                     \n",
      "2  Three-factor model   577.646 206.000 2.804 0.915 0.905 0.078 0.045 197.840  3.000 0.000\n",
      "3  Two-factor model     745.921 208.000 3.586 0.877 0.864 0.093 0.055 366.115  5.000 0.000\n",
      "4  Single-factor model 1019.399 209.000 4.878 0.815 0.796 0.114 0.068 639.593  6.000 0.000\n",
      "5  Bifactor model       360.755 187.000 1.929 0.960 0.951 0.056 0.032  19.051 16.000 0.266\n",
      "──────────────────────────────────────────────────────────────────────────────────────────\n"
     ]
    }
   ],
   "source": [
    "# 获取基准模型的模型值\n",
    "baseline_values <- final_results |>\n",
    "  filter(Model == \"Baseline model\")\n",
    "\n",
    "# 计算其他模型的差值\n",
    "other_values <- final_results |>\n",
    "  filter(Model != \"Baseline model\") |>\n",
    "  mutate(\n",
    "    Δχ2 = abs(χ2 - baseline_values$χ2),\n",
    "    Δdf = abs(df - baseline_values$df),\n",
    "    p = p.chi2(Δχ2, Δdf)\n",
    "  )\n",
    "\n",
    "# 合并并输出结果\n",
    "model_results <- bind_rows(baseline_values, other_values)\n",
    "model_results |> print_table()"
   ]
  },
  {
   "cell_type": "code",
   "execution_count": 9,
   "metadata": {
    "vscode": {
     "languageId": "r"
    }
   },
   "outputs": [
    {
     "name": "stdout",
     "output_type": "stream",
     "text": [
      "───────────────────────────────────────────────────────────────────────────────────\n",
      "            Model      χ2      df χ2/df   CFI   TLI RMSEA  SRMR    Δχ2    Δdf     p\n",
      "───────────────────────────────────────────────────────────────────────────────────\n",
      "1  Baseline model 379.806 203.000 1.871 0.960 0.954 0.054 0.033                    \n",
      "2  Bifactor model 360.755 187.000 1.929 0.960 0.951 0.056 0.032 19.051 16.000 0.266\n",
      "───────────────────────────────────────────────────────────────────────────────────\n"
     ]
    }
   ],
   "source": [
    "model_results |> filter(Model == \"Baseline model\" | Model == \"Bifactor model\") |> print_table()"
   ]
  }
 ],
 "metadata": {
  "kernelspec": {
   "display_name": "R",
   "language": "R",
   "name": "ir"
  },
  "language_info": {
   "codemirror_mode": "r",
   "file_extension": ".r",
   "mimetype": "text/x-r-source",
   "name": "R",
   "pygments_lexer": "r",
   "version": "4.4.2"
  }
 },
 "nbformat": 4,
 "nbformat_minor": 2
}
